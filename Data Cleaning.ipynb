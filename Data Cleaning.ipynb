{
 "cells": [
  {
   "cell_type": "code",
   "execution_count": 2,
   "id": "12a0bdce",
   "metadata": {},
   "outputs": [
    {
     "name": "stdout",
     "output_type": "stream",
     "text": [
      "Top 10 Maximum Values:\n",
      "                       utc parameter  value\n",
      "108    2021-03-10T04:15:00      pm25  985.0\n",
      "3804   2020-12-03T09:15:00      pm25  985.0\n",
      "8851   2020-08-12T09:15:00      pm25  985.0\n",
      "14951  2020-03-06T09:15:00      pm25  985.0\n",
      "15101  2020-03-02T11:15:00      pm25  985.0\n",
      "19035  2019-11-27T05:15:00      pm25  985.0\n",
      "28824  2019-04-21T02:15:00      pm25  985.0\n",
      "30905  2019-03-06T11:15:00      pm25  985.0\n",
      "33070  2019-01-16T05:15:00      pm25  985.0\n",
      "38759  2018-08-08T05:15:00      pm25  985.0\n",
      "\n",
      "Top 10 Minimum Values:\n",
      "                       utc parameter  value\n",
      "135    2021-03-09T07:15:00      pm25  -15.0\n",
      "11905  2020-05-22T10:15:00      pm25  -15.0\n",
      "20281  2019-10-31T10:15:00      pm25  -15.0\n",
      "25987  2019-06-20T05:15:00      pm25  -15.0\n",
      "26364  2019-06-12T04:15:00      pm25  -15.0\n",
      "26931  2019-05-31T06:15:00      pm25  -15.0\n",
      "27310  2019-05-23T06:15:00      pm25  -15.0\n",
      "37132  2018-09-17T03:15:00      pm25  -15.0\n",
      "37313  2018-09-13T03:15:00      pm25  -15.0\n",
      "37710  2018-09-04T03:15:00      pm25  -15.0\n"
     ]
    }
   ],
   "source": [
    "#Checking the maximum and minimum values in the data\n",
    "import pandas as pd\n",
    "\n",
    "# Read PM2.5 data from CSV file\n",
    "df_pm25 = pd.read_csv('data01.csv')\n",
    "\n",
    "# Display the top 10 maximum values\n",
    "top_10_max_values = df_pm25.nlargest(10, 'value')\n",
    "print(\"Top 10 Maximum Values:\")\n",
    "print(top_10_max_values)\n",
    "\n",
    "# Display the top 10 minimum values\n",
    "top_10_min_values = df_pm25.nsmallest(10, 'value')\n",
    "print(\"\\nTop 10 Minimum Values:\")\n",
    "print(top_10_min_values)\n"
   ]
  },
  {
   "cell_type": "code",
   "execution_count": 4,
   "id": "8ca2a40d",
   "metadata": {},
   "outputs": [
    {
     "name": "stdout",
     "output_type": "stream",
     "text": [
      "o3 Data:\n",
      "                   utc parameter  value\n",
      "0  2021-03-12T18:15:00        o3  0.057\n",
      "3  2021-03-12T17:15:00        o3  0.051\n",
      "5  2021-03-12T16:15:00        o3  0.052\n",
      "6  2021-03-12T15:15:00        o3  0.051\n",
      "9  2021-03-12T14:15:00        o3  0.050\n"
     ]
    }
   ],
   "source": [
    "#Separating the pm25 and o3 files\n",
    "import pandas as pd\n",
    "\n",
    "# Read data from CSV file\n",
    "df = pd.read_csv('data01.csv')\n",
    "\n",
    "# Separate data for PM2.5 (pm25) and O3 parameters\n",
    "df_pm25 = df[df['parameter'] == 'o3'][['utc', 'parameter', 'value']]\n",
    "\n",
    "\n",
    "# Save PM2.5 data to a new CSV file\n",
    "df_pm25.to_csv('data1_o3.csv', index=False)\n",
    "\n",
    "\n",
    "\n",
    "# Display the created CSV files\n",
    "print(\"o3 Data:\")\n",
    "print(df_pm25.head())"
   ]
  },
  {
   "cell_type": "code",
   "execution_count": null,
   "id": "d8792c25",
   "metadata": {},
   "outputs": [],
   "source": []
  }
 ],
 "metadata": {
  "kernelspec": {
   "display_name": "Python 3 (ipykernel)",
   "language": "python",
   "name": "python3"
  },
  "language_info": {
   "codemirror_mode": {
    "name": "ipython",
    "version": 3
   },
   "file_extension": ".py",
   "mimetype": "text/x-python",
   "name": "python",
   "nbconvert_exporter": "python",
   "pygments_lexer": "ipython3",
   "version": "3.9.15"
  }
 },
 "nbformat": 4,
 "nbformat_minor": 5
}
